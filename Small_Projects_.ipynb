{
  "nbformat": 4,
  "nbformat_minor": 0,
  "metadata": {
    "colab": {
      "provenance": [],
      "authorship_tag": "ABX9TyMNvJlMcQRVEkcXJo0OTQil",
      "include_colab_link": true
    },
    "kernelspec": {
      "name": "python3",
      "display_name": "Python 3"
    },
    "language_info": {
      "name": "python"
    }
  },
  "cells": [
    {
      "cell_type": "markdown",
      "metadata": {
        "id": "view-in-github",
        "colab_type": "text"
      },
      "source": [
        "<a href=\"https://colab.research.google.com/github/Fadilsa9/Small-Projects/blob/main/Small_Projects_.ipynb\" target=\"_parent\"><img src=\"https://colab.research.google.com/assets/colab-badge.svg\" alt=\"Open In Colab\"/></a>"
      ]
    },
    {
      "cell_type": "code",
      "execution_count": 8,
      "metadata": {
        "colab": {
          "base_uri": "https://localhost:8080/"
        },
        "id": "PtTvQFMXsbl5",
        "outputId": "0a8574a3-5acf-41a5-d3c1-e13ca8c146b6"
      },
      "outputs": [
        {
          "output_type": "stream",
          "name": "stdout",
          "text": [
            "The area of rectangle is 198\n"
          ]
        }
      ],
      "source": [
        "# Функция для вычисления площади прямоугольника\n",
        "\n",
        "def rectangle_area(length, width):\n",
        "    area = length * width\n",
        "    print(f'The area of rectangle is {area}')\n",
        "\n",
        "rectangle_area(22, 9)"
      ]
    },
    {
      "cell_type": "code",
      "source": [
        "# Приветствие с указанием времени суток\n",
        "\n",
        "def greet_with_time(name, time_of_day):\n",
        "    print(f'Добрый {time_of_day}, {name}')\n",
        "\n",
        "greet_with_time('Елизавета', 'день')\n",
        "greet_with_time('Фадильса', 'вечер')"
      ],
      "metadata": {
        "colab": {
          "base_uri": "https://localhost:8080/"
        },
        "id": "pmUb4EgotLwY",
        "outputId": "65a898f6-a109-48a1-8fe6-6ff85be4b28d"
      },
      "execution_count": 3,
      "outputs": [
        {
          "output_type": "stream",
          "name": "stdout",
          "text": [
            "Добрый день, Елизавета\n",
            "Добрый вечер, Фадильса\n"
          ]
        }
      ]
    },
    {
      "cell_type": "code",
      "source": [
        "# Преобразование температуры из Цельсия в Фаренгейт\n",
        "\n",
        "def celsius_to_fahrenheit(celsius):\n",
        "    fahrenheit = (celsius * 9/5) +32\n",
        "    print(f'{celsius}°C = {fahrenheit}°F')\n",
        "\n",
        "celsius_to_fahrenheit(0)    # Температура замерзания воды\n",
        "celsius_to_fahrenheit(100)  # Температура кипения воды\n",
        "celsius_to_fahrenheit(25)   # Комнатная температура"
      ],
      "metadata": {
        "colab": {
          "base_uri": "https://localhost:8080/"
        },
        "id": "A7W7DO-2uLi2",
        "outputId": "7dc22000-8dfa-4331-d667-184d843c47b3"
      },
      "execution_count": 7,
      "outputs": [
        {
          "output_type": "stream",
          "name": "stdout",
          "text": [
            "0°C = 32.0°F\n",
            "100°C = 212.0°F\n",
            "25°C = 77.0°F\n"
          ]
        }
      ]
    },
    {
      "cell_type": "code",
      "source": [],
      "metadata": {
        "id": "E819n8BJxagx"
      },
      "execution_count": null,
      "outputs": []
    }
  ]
}