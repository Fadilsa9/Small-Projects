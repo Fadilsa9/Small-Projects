{
  "nbformat": 4,
  "nbformat_minor": 0,
  "metadata": {
    "colab": {
      "provenance": [],
      "authorship_tag": "ABX9TyOs2zbb05vFN5nzDRKgi4kP"
    },
    "kernelspec": {
      "name": "python3",
      "display_name": "Python 3"
    },
    "language_info": {
      "name": "python"
    }
  },
  "cells": [
    {
      "cell_type": "code",
      "execution_count": null,
      "metadata": {
        "colab": {
          "base_uri": "https://localhost:8080/"
        },
        "id": "PtTvQFMXsbl5",
        "outputId": "0a8574a3-5acf-41a5-d3c1-e13ca8c146b6"
      },
      "outputs": [
        {
          "output_type": "stream",
          "name": "stdout",
          "text": [
            "The area of rectangle is 198\n"
          ]
        }
      ],
      "source": [
        "# Функция для вычисления площади прямоугольника\n",
        "\n",
        "def rectangle_area(length, width):\n",
        "    area = length * width\n",
        "    print(f'The area of rectangle is {area}')\n",
        "\n",
        "rectangle_area(22, 9)"
      ]
    },
    {
      "cell_type": "code",
      "source": [
        "# Приветствие с указанием времени суток\n",
        "\n",
        "def greet_with_time(name, time_of_day):\n",
        "    print(f'Добрый {time_of_day}, {name}')\n",
        "\n",
        "greet_with_time('Елизавета', 'день')\n",
        "greet_with_time('Фадильса', 'вечер')"
      ],
      "metadata": {
        "colab": {
          "base_uri": "https://localhost:8080/"
        },
        "id": "pmUb4EgotLwY",
        "outputId": "65a898f6-a109-48a1-8fe6-6ff85be4b28d"
      },
      "execution_count": null,
      "outputs": [
        {
          "output_type": "stream",
          "name": "stdout",
          "text": [
            "Добрый день, Елизавета\n",
            "Добрый вечер, Фадильса\n"
          ]
        }
      ]
    },
    {
      "cell_type": "code",
      "source": [
        "# Преобразование температуры из Цельсия в Фаренгейт\n",
        "\n",
        "def celsius_to_fahrenheit(celsius):\n",
        "    fahrenheit = (celsius * 9/5) +32\n",
        "    print(f'{celsius}°C = {fahrenheit}°F')\n",
        "\n",
        "celsius_to_fahrenheit(0)    # Температура замерзания воды\n",
        "celsius_to_fahrenheit(100)  # Температура кипения воды\n",
        "celsius_to_fahrenheit(25)   # Комнатная температура"
      ],
      "metadata": {
        "colab": {
          "base_uri": "https://localhost:8080/"
        },
        "id": "A7W7DO-2uLi2",
        "outputId": "7dc22000-8dfa-4331-d667-184d843c47b3"
      },
      "execution_count": null,
      "outputs": [
        {
          "output_type": "stream",
          "name": "stdout",
          "text": [
            "0°C = 32.0°F\n",
            "100°C = 212.0°F\n",
            "25°C = 77.0°F\n"
          ]
        }
      ]
    },
    {
      "cell_type": "code",
      "source": [
        "# Вычисление квадрата числа\n",
        "\n",
        "def square(number):\n",
        "    return number * number\n",
        "\n",
        "result = square(5)\n",
        "print(f'Квадрат числа 5 = {result}')\n",
        "print(f'Квадрат числа 3 плюс 13 = {square(3) + 13}')"
      ],
      "metadata": {
        "colab": {
          "base_uri": "https://localhost:8080/"
        },
        "id": "Wsi9Eh723yXg",
        "outputId": "8c13db0b-7246-447e-b6dd-45d1eaa994a4"
      },
      "execution_count": null,
      "outputs": [
        {
          "output_type": "stream",
          "name": "stdout",
          "text": [
            "Квадрат числа 5 = 25\n",
            "Квадрат числа 3 плюс 13 = 22\n"
          ]
        }
      ]
    },
    {
      "cell_type": "code",
      "source": [
        "# Проверка, является ли число чётным\n",
        "\n",
        "def is_even(number):\n",
        "    return number % 2 == 0\n",
        "\n",
        "print(is_even(8))\n",
        "print(is_even(9))\n",
        "\n",
        "if is_even(10):\n",
        "    print(\"Число 10 чётное.\")\n",
        "else:\n",
        "    print(\"Число 10 нечётное.\")"
      ],
      "metadata": {
        "colab": {
          "base_uri": "https://localhost:8080/"
        },
        "id": "NvjENzpKRL34",
        "outputId": "ba6f3fd1-f7c3-4793-d4cc-771ee6bdc90a"
      },
      "execution_count": 1,
      "outputs": [
        {
          "output_type": "stream",
          "name": "stdout",
          "text": [
            "True\n",
            "False\n",
            "Число 10 чётное.\n"
          ]
        }
      ]
    },
    {
      "cell_type": "code",
      "source": [
        "# Получение средного значения из списка чисел\n",
        "\n",
        "def calculate_average(number):\n",
        "    \"\"\"Вычесляет среднее значение из списка чисел.\"\"\"\n",
        "    if len(number) == 0:\n",
        "      return 0  # Если список пустой, возвращаем 0\n",
        "    return sum(number) / len(number)\n",
        "\n",
        "average = calculate_average([100, 200, 300, 400, 500])\n",
        "print(f'Среднее значение: {average}')\n",
        "\n",
        "empty_average = calculate_average([])\n",
        "print(f'Среднее значение пустого списка: {empty_average}')"
      ],
      "metadata": {
        "colab": {
          "base_uri": "https://localhost:8080/"
        },
        "id": "L64VJsnQ3bLs",
        "outputId": "9b2efa10-9ba6-4c26-e0e5-0107349fea9b"
      },
      "execution_count": 14,
      "outputs": [
        {
          "output_type": "stream",
          "name": "stdout",
          "text": [
            "Среднее значение: 300.0\n",
            "Среднее значение пустого списка: 0\n"
          ]
        }
      ]
    }
  ]
}